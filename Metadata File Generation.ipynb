{
 "cells": [
  {
   "cell_type": "code",
   "execution_count": 1,
   "metadata": {},
   "outputs": [],
   "source": [
    "import pandas as pd\n",
    "import numpy as np \n",
    "import os \n",
    "import warnings\n",
    "import shutil \n",
    "warnings.simplefilter(action='ignore', category=FutureWarning)\n",
    "\n",
    "# Description # \n",
    "# Python Notebook to generate metadata file to be used for \"AUDIO_DATA\" class "
   ]
  },
  {
   "cell_type": "code",
   "execution_count": null,
   "metadata": {},
   "outputs": [],
   "source": [
    "# Adjust as needed but at minimum, CSV fille should be  \n",
    "# filename in the first column and class label in second column \n",
    "# for neural network to work properly\n",
    "# a metadata file is required for each dataloader\n",
    "def metadata_extraction(dir_path, file_name):\n",
    "    df = pd.DataFrame(columns=['Filename', 'Label'])\n",
    "    for root, dirs, files in os.walk(dir_path, topdown=True):\n",
    "        for name in files:\n",
    "            speaker = name.split('0')[0]\n",
    "            if speaker == 'LJ':  # Assigning class label\n",
    "                label = '0'\n",
    "            elif speaker == 'AI':  # Assigning class label\n",
    "                label = '1'\n",
    "            row = {'Filename': name, 'Label': label}\n",
    "            df = df._append(row, ignore_index=True)\n",
    "    df.to_csv(file_name, index=False)"
   ]
  },
  {
   "cell_type": "code",
   "execution_count": 4,
   "metadata": {},
   "outputs": [],
   "source": [
    "# metadata file example inside \"Datasets\" directory\n",
    "# both legitimate and AI voice samples will need to be in the same directory\n",
    "# metadata extraction is done through string manipulation so filenames will \n",
    "# need to be following some naming convention\n",
    "\n",
    "dir_path = 'Source Path of Audio File Directory'\n",
    "file_name = 'Desired File Name for Metadata File'\n",
    "\n",
    "metadata_extraction(dir_path, file_name)"
   ]
  }
 ],
 "metadata": {
  "kernelspec": {
   "display_name": "base",
   "language": "python",
   "name": "python3"
  },
  "language_info": {
   "codemirror_mode": {
    "name": "ipython",
    "version": 3
   },
   "file_extension": ".py",
   "mimetype": "text/x-python",
   "name": "python",
   "nbconvert_exporter": "python",
   "pygments_lexer": "ipython3",
   "version": "3.9.19"
  }
 },
 "nbformat": 4,
 "nbformat_minor": 2
}
